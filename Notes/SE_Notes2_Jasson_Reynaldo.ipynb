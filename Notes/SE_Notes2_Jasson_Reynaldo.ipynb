{
  "nbformat": 4,
  "nbformat_minor": 0,
  "metadata": {
    "colab": {
      "name": "SE_Notes2_Jasson_Reynaldo.ipynb",
      "provenance": [],
      "collapsed_sections": []
    },
    "kernelspec": {
      "name": "python3",
      "display_name": "Python 3"
    },
    "language_info": {
      "name": "python"
    }
  },
  "cells": [
    {
      "cell_type": "code",
      "metadata": {
        "id": "9rHiiehiuZkr"
      },
      "source": [
        "# List of topics that we will learn in this meeting:\n",
        "# - List\n",
        "# - Dictionary\n",
        "# - Tuple\n",
        "# - Loooping\n",
        "# - Function"
      ],
      "execution_count": 3,
      "outputs": []
    },
    {
      "cell_type": "code",
      "metadata": {
        "colab": {
          "base_uri": "https://localhost:8080/"
        },
        "id": "oG6bIKQtzWAH",
        "outputId": "e2c462dd-a903-44ca-98e4-2b4d65087cdb"
      },
      "source": [
        "# List\n",
        "my_list = [\"Jasson\",7, 11, [\"Pizza\",\"Soda\"], {},(),False]\n",
        "print(my_list[0])\n",
        "print(my_list[1])\n",
        "print(my_list[-1])"
      ],
      "execution_count": 9,
      "outputs": [
        {
          "output_type": "stream",
          "name": "stdout",
          "text": [
            "Jasson\n",
            "7\n",
            "False\n"
          ]
        }
      ]
    },
    {
      "cell_type": "code",
      "metadata": {
        "colab": {
          "base_uri": "https://localhost:8080/"
        },
        "id": "0F1vKvnn0H0O",
        "outputId": "3e090c23-09ef-48b5-93ae-4768a6c7cf1d"
      },
      "source": [
        "# Dictionary (formula : key + value = > key: value)\n",
        "my_dictionary = {\"Me\":\"Jasson\",\"Ni\":2,True:7,8.0:[\"Pizza\",\"Soda\"], \"Dicti\":{},222:(),\"Boolean\":False}\n",
        "print(my_dictionary[\"Me\"])\n",
        "print(my_dictionary[8.0])\n",
        "print(my_dictionary[True])"
      ],
      "execution_count": 63,
      "outputs": [
        {
          "output_type": "stream",
          "name": "stdout",
          "text": [
            "Jasson\n",
            "['Pizza', 'Soda']\n",
            "7\n"
          ]
        }
      ]
    },
    {
      "cell_type": "code",
      "metadata": {
        "colab": {
          "base_uri": "https://localhost:8080/"
        },
        "id": "OHkecdhs0L0t",
        "outputId": "e79bf1e8-db37-4237-bab5-5f0687021ce0"
      },
      "source": [
        "# Salah satu method di dictionary : .keys()\n",
        "my_dictionary.keys()"
      ],
      "execution_count": 17,
      "outputs": [
        {
          "output_type": "execute_result",
          "data": {
            "text/plain": [
              "dict_keys(['Me', 'Ni', True, 8.0, 'Dicti', 222, 'Boolean'])"
            ]
          },
          "metadata": {},
          "execution_count": 17
        }
      ]
    },
    {
      "cell_type": "code",
      "metadata": {
        "id": "lN0hVzfM27Vt"
      },
      "source": [
        "# Contoh method yang ada di list\n",
        "newList = [3,2,4,5,6]"
      ],
      "execution_count": 29,
      "outputs": []
    },
    {
      "cell_type": "code",
      "metadata": {
        "colab": {
          "base_uri": "https://localhost:8080/"
        },
        "id": "9a4xWSjR3P_J",
        "outputId": "eae9280b-a51b-4f0f-d8db-651fbfba8a73"
      },
      "source": [
        "newList.append(\"J-Son\")\n",
        "print(newList)"
      ],
      "execution_count": 30,
      "outputs": [
        {
          "output_type": "stream",
          "name": "stdout",
          "text": [
            "[3, 2, 4, 5, 6, 'J-Son']\n"
          ]
        }
      ]
    },
    {
      "cell_type": "code",
      "metadata": {
        "colab": {
          "base_uri": "https://localhost:8080/"
        },
        "id": "5svVFXd83cm-",
        "outputId": "2ec84d9a-4df2-4410-a07a-429cdbb4a1a9"
      },
      "source": [
        "newList.insert(1,\"HEHE\")\n",
        "newList"
      ],
      "execution_count": 31,
      "outputs": [
        {
          "output_type": "execute_result",
          "data": {
            "text/plain": [
              "[3, 'HEHE', 2, 4, 5, 6, 'J-Son']"
            ]
          },
          "metadata": {},
          "execution_count": 31
        }
      ]
    },
    {
      "cell_type": "code",
      "metadata": {
        "colab": {
          "base_uri": "https://localhost:8080/"
        },
        "id": "oF2xosoZ33TC",
        "outputId": "976e324f-a75e-4cdd-b7f5-450e38d54774"
      },
      "source": [
        "num_list= [3,1,5,2,4]\n",
        "num_list.sort()\n",
        "num_list"
      ],
      "execution_count": 33,
      "outputs": [
        {
          "output_type": "execute_result",
          "data": {
            "text/plain": [
              "[1, 2, 3, 4, 5]"
            ]
          },
          "metadata": {},
          "execution_count": 33
        }
      ]
    },
    {
      "cell_type": "code",
      "metadata": {
        "colab": {
          "base_uri": "https://localhost:8080/"
        },
        "id": "0WHUJacYAYba",
        "outputId": "17a0fd09-54e1-42f1-e2a9-3caedecd9eb8"
      },
      "source": [
        "num_list.sort(reverse=True)\n",
        "num_list"
      ],
      "execution_count": 35,
      "outputs": [
        {
          "output_type": "execute_result",
          "data": {
            "text/plain": [
              "[5, 4, 3, 2, 1]"
            ]
          },
          "metadata": {},
          "execution_count": 35
        }
      ]
    },
    {
      "cell_type": "code",
      "metadata": {
        "colab": {
          "base_uri": "https://localhost:8080/"
        },
        "id": "pC6kfbOsAitx",
        "outputId": "ad8d087b-8c0c-4fda-8161-bebe936e6eaf"
      },
      "source": [
        "num_list.pop()\n",
        "num_list"
      ],
      "execution_count": 36,
      "outputs": [
        {
          "output_type": "execute_result",
          "data": {
            "text/plain": [
              "[5, 4, 3, 2]"
            ]
          },
          "metadata": {},
          "execution_count": 36
        }
      ]
    },
    {
      "cell_type": "code",
      "metadata": {
        "colab": {
          "base_uri": "https://localhost:8080/"
        },
        "id": "sW5ENPVOAlsK",
        "outputId": "4148a770-0323-42ce-b256-bb443972c30e"
      },
      "source": [
        "num_list.remove(4)\n",
        "num_list"
      ],
      "execution_count": 38,
      "outputs": [
        {
          "output_type": "execute_result",
          "data": {
            "text/plain": [
              "[5, 3, 2]"
            ]
          },
          "metadata": {},
          "execution_count": 38
        }
      ]
    },
    {
      "cell_type": "code",
      "metadata": {
        "colab": {
          "base_uri": "https://localhost:8080/"
        },
        "id": "9Q2RaSW6Auxq",
        "outputId": "e053de54-0d55-4b50-c62f-4f6a483d8577"
      },
      "source": [
        "num_list.remove(num_list[1])\n",
        "num_list"
      ],
      "execution_count": 39,
      "outputs": [
        {
          "output_type": "execute_result",
          "data": {
            "text/plain": [
              "[5, 2]"
            ]
          },
          "metadata": {},
          "execution_count": 39
        }
      ]
    },
    {
      "cell_type": "code",
      "metadata": {
        "colab": {
          "base_uri": "https://localhost:8080/"
        },
        "id": "j3z3cFpJBIlC",
        "outputId": "8189e125-bf32-433a-9e27-ac57a9b26c3f"
      },
      "source": [
        "num_list.append(6)\n",
        "num_list"
      ],
      "execution_count": 40,
      "outputs": [
        {
          "output_type": "execute_result",
          "data": {
            "text/plain": [
              "[5, 2, 6]"
            ]
          },
          "metadata": {},
          "execution_count": 40
        }
      ]
    },
    {
      "cell_type": "code",
      "metadata": {
        "colab": {
          "base_uri": "https://localhost:8080/"
        },
        "id": "n-zf5k0_Bqyw",
        "outputId": "38456e14-a57c-463f-cb9a-918717e8f2b3"
      },
      "source": [
        "# Set (Set tidak bisa dipanggil dengan spesifik seperti list)\n",
        "num_set= set(num_list)\n",
        "num_set"
      ],
      "execution_count": 44,
      "outputs": [
        {
          "output_type": "execute_result",
          "data": {
            "text/plain": [
              "{2, 5, 6}"
            ]
          },
          "metadata": {},
          "execution_count": 44
        }
      ]
    },
    {
      "cell_type": "code",
      "metadata": {
        "colab": {
          "base_uri": "https://localhost:8080/"
        },
        "id": "ZUVoGZ1SB362",
        "outputId": "cf279413-c700-4216-ae08-ed8f949994f3"
      },
      "source": [
        "num_list = list(num_set)\n",
        "num_list"
      ],
      "execution_count": 47,
      "outputs": [
        {
          "output_type": "execute_result",
          "data": {
            "text/plain": [
              "[2, 5, 6]"
            ]
          },
          "metadata": {},
          "execution_count": 47
        }
      ]
    },
    {
      "cell_type": "code",
      "metadata": {
        "colab": {
          "base_uri": "https://localhost:8080/"
        },
        "id": "1iw9I8WOCSBk",
        "outputId": "eb6d748e-0db1-4cc4-abe7-b508adc71269"
      },
      "source": [
        "# Tuple (value di dalam tuple tidak dapat diubah)\n",
        "num_tuple = (1,3,2,6,2,1)\n",
        "num_tuple[1]"
      ],
      "execution_count": 52,
      "outputs": [
        {
          "output_type": "execute_result",
          "data": {
            "text/plain": [
              "3"
            ]
          },
          "metadata": {},
          "execution_count": 52
        }
      ]
    },
    {
      "cell_type": "code",
      "metadata": {
        "id": "e8X88KEXCbbg"
      },
      "source": [
        "my_dictionary = {\"Me\":\"Jasson\",\"Ni\":2,True:7,8.0:[\"Pizza\",\"Soda\"], \"Dicti\":{},222:(),\"Boolean\":False}"
      ],
      "execution_count": 74,
      "outputs": []
    },
    {
      "cell_type": "code",
      "metadata": {
        "id": "2qUC7DY_DMzc"
      },
      "source": [
        "my_dictionary[\"Hello\"] = [\"Jack\"]"
      ],
      "execution_count": 75,
      "outputs": []
    },
    {
      "cell_type": "code",
      "metadata": {
        "colab": {
          "base_uri": "https://localhost:8080/"
        },
        "id": "7pWIKQTgDX_R",
        "outputId": "7281c997-4932-4ae4-cb93-dafb92905924"
      },
      "source": [
        "print(my_dictionary)"
      ],
      "execution_count": 76,
      "outputs": [
        {
          "output_type": "stream",
          "name": "stdout",
          "text": [
            "{'Me': 'Jasson', 'Ni': 2, True: 7, 8.0: ['Pizza', 'Soda'], 'Dicti': {}, 222: (), 'Boolean': False, 'Hello': ['Jack']}\n"
          ]
        }
      ]
    },
    {
      "cell_type": "code",
      "metadata": {
        "id": "scEar3mtDxIw"
      },
      "source": [
        "my_dictionary[\"Hello\"].append(17)"
      ],
      "execution_count": 77,
      "outputs": []
    },
    {
      "cell_type": "code",
      "metadata": {
        "colab": {
          "base_uri": "https://localhost:8080/"
        },
        "id": "iVQXow2MEASW",
        "outputId": "fe4068e8-7c11-4a8d-b36b-f68bdc6647a3"
      },
      "source": [
        "print(my_dictionary)"
      ],
      "execution_count": 79,
      "outputs": [
        {
          "output_type": "stream",
          "name": "stdout",
          "text": [
            "{'Me': 'Jasson', 'Ni': 2, True: 7, 8.0: ['Pizza', 'Soda'], 'Dicti': {}, 222: (), 'Boolean': False, 'Hello': ['Jack', 17]}\n"
          ]
        }
      ]
    },
    {
      "cell_type": "code",
      "metadata": {
        "colab": {
          "base_uri": "https://localhost:8080/"
        },
        "id": "SxhrIvf7EN-i",
        "outputId": "f05c610d-5aca-4479-d2ac-5158aa9d6660"
      },
      "source": [
        "#Contoh ngehapus key + value in dictionary\n",
        "my_dictionary.pop(\"Hello\")"
      ],
      "execution_count": 81,
      "outputs": [
        {
          "output_type": "execute_result",
          "data": {
            "text/plain": [
              "['Jack', 17]"
            ]
          },
          "metadata": {},
          "execution_count": 81
        }
      ]
    },
    {
      "cell_type": "code",
      "metadata": {
        "colab": {
          "base_uri": "https://localhost:8080/"
        },
        "id": "3W5PJtVXEfkb",
        "outputId": "6e1634d1-9361-40ff-bbb7-5dfa610af009"
      },
      "source": [
        "print(my_dictionary)"
      ],
      "execution_count": 82,
      "outputs": [
        {
          "output_type": "stream",
          "name": "stdout",
          "text": [
            "{'Me': 'Jasson', 'Ni': 2, True: 7, 8.0: ['Pizza', 'Soda'], 'Dicti': {}, 222: (), 'Boolean': False}\n"
          ]
        }
      ]
    },
    {
      "cell_type": "code",
      "metadata": {
        "id": "1vPh20a5EnYX"
      },
      "source": [
        "del my_dictionary[\"Boolean\"]"
      ],
      "execution_count": 83,
      "outputs": []
    },
    {
      "cell_type": "code",
      "metadata": {
        "colab": {
          "base_uri": "https://localhost:8080/"
        },
        "id": "Ja-PDECeEvZt",
        "outputId": "828cf854-2711-4147-d585-0aa7a05eaa64"
      },
      "source": [
        "print(my_dictionary)"
      ],
      "execution_count": 84,
      "outputs": [
        {
          "output_type": "stream",
          "name": "stdout",
          "text": [
            "{'Me': 'Jasson', 'Ni': 2, True: 7, 8.0: ['Pizza', 'Soda'], 'Dicti': {}, 222: ()}\n"
          ]
        }
      ]
    },
    {
      "cell_type": "code",
      "metadata": {
        "colab": {
          "base_uri": "https://localhost:8080/"
        },
        "id": "zDYpuSXoEwNT",
        "outputId": "c4df6e3e-09bc-48a2-8120-8d30affe1064"
      },
      "source": [
        "# For Loop\n",
        "for i in range(12):\n",
        "  print(\"Hellaw\")"
      ],
      "execution_count": 99,
      "outputs": [
        {
          "output_type": "stream",
          "name": "stdout",
          "text": [
            "Hellaw\n",
            "Hellaw\n",
            "Hellaw\n",
            "Hellaw\n",
            "Hellaw\n",
            "Hellaw\n",
            "Hellaw\n",
            "Hellaw\n",
            "Hellaw\n",
            "Hellaw\n",
            "Hellaw\n",
            "Hellaw\n"
          ]
        }
      ]
    },
    {
      "cell_type": "code",
      "metadata": {
        "colab": {
          "base_uri": "https://localhost:8080/"
        },
        "id": "n42scEr9E2--",
        "outputId": "323fdee4-94fe-4b71-ff05-6c6eaf922091"
      },
      "source": [
        "for i in range(12):\n",
        "  print(i)"
      ],
      "execution_count": 91,
      "outputs": [
        {
          "output_type": "stream",
          "name": "stdout",
          "text": [
            "0\n",
            "1\n",
            "2\n",
            "3\n",
            "4\n",
            "5\n",
            "6\n",
            "7\n",
            "8\n",
            "9\n",
            "10\n",
            "11\n"
          ]
        }
      ]
    },
    {
      "cell_type": "code",
      "metadata": {
        "colab": {
          "base_uri": "https://localhost:8080/"
        },
        "id": "qDoKwVCnFItx",
        "outputId": "fb2b00fd-29c5-426f-b797-c64394c898b6"
      },
      "source": [
        "for i in range (0,12,2):\n",
        "  print(i)"
      ],
      "execution_count": 93,
      "outputs": [
        {
          "output_type": "stream",
          "name": "stdout",
          "text": [
            "0\n",
            "2\n",
            "4\n",
            "6\n",
            "8\n",
            "10\n"
          ]
        }
      ]
    },
    {
      "cell_type": "code",
      "metadata": {
        "colab": {
          "base_uri": "https://localhost:8080/"
        },
        "id": "B0oGlgimFRfQ",
        "outputId": "cb3525d3-6fcd-40b9-a29b-d19fa7ec3aea"
      },
      "source": [
        "for i in range (12,0,-2):\n",
        "  print(i)"
      ],
      "execution_count": 97,
      "outputs": [
        {
          "output_type": "stream",
          "name": "stdout",
          "text": [
            "12\n",
            "10\n",
            "8\n",
            "6\n",
            "4\n",
            "2\n"
          ]
        }
      ]
    },
    {
      "cell_type": "code",
      "metadata": {
        "id": "mkJGBVemFXWR"
      },
      "source": [
        "#While Loop\n"
      ],
      "execution_count": 98,
      "outputs": []
    },
    {
      "cell_type": "code",
      "metadata": {
        "colab": {
          "base_uri": "https://localhost:8080/"
        },
        "id": "RSxOyFyYFgZQ",
        "outputId": "c267260d-ae40-4327-dca7-f3a3d2a596ba"
      },
      "source": [
        "a = 0\n",
        "while a < 17:\n",
        "  print(\"a is still lesser than 17; a = {}\".format(a))\n",
        "  a+= 1"
      ],
      "execution_count": 102,
      "outputs": [
        {
          "output_type": "stream",
          "name": "stdout",
          "text": [
            "a is still lesser than 17; a = 0\n",
            "a is still lesser than 17; a = 1\n",
            "a is still lesser than 17; a = 2\n",
            "a is still lesser than 17; a = 3\n",
            "a is still lesser than 17; a = 4\n",
            "a is still lesser than 17; a = 5\n",
            "a is still lesser than 17; a = 6\n",
            "a is still lesser than 17; a = 7\n",
            "a is still lesser than 17; a = 8\n",
            "a is still lesser than 17; a = 9\n",
            "a is still lesser than 17; a = 10\n",
            "a is still lesser than 17; a = 11\n",
            "a is still lesser than 17; a = 12\n",
            "a is still lesser than 17; a = 13\n",
            "a is still lesser than 17; a = 14\n",
            "a is still lesser than 17; a = 15\n",
            "a is still lesser than 17; a = 16\n"
          ]
        }
      ]
    },
    {
      "cell_type": "code",
      "metadata": {
        "colab": {
          "base_uri": "https://localhost:8080/"
        },
        "id": "dDKZfRNXGGSL",
        "outputId": "879fbfa6-f197-48e8-bdb1-f4c4999d921b"
      },
      "source": [
        "while True:\n",
        "  umur = int(input())\n",
        "  if umur > 17:\n",
        "    break"
      ],
      "execution_count": 109,
      "outputs": [
        {
          "name": "stdout",
          "output_type": "stream",
          "text": [
            "2\n",
            "10\n",
            "18\n"
          ]
        }
      ]
    },
    {
      "cell_type": "code",
      "metadata": {
        "colab": {
          "base_uri": "https://localhost:8080/"
        },
        "id": "itiTz6uSGUwK",
        "outputId": "a7aee317-0151-46ef-ae4a-0d5f6e114fe2"
      },
      "source": [
        "while True:\n",
        "  umur = int(input())\n",
        "  if umur == 17:\n",
        "    continue\n",
        "  elif umur > 17:\n",
        "    print(\"Loop Break!\")\n",
        "    break\n",
        "  print(\"text ini akan mucul jika umur dibawah 17\")  \n",
        "    "
      ],
      "execution_count": 110,
      "outputs": [
        {
          "output_type": "stream",
          "name": "stdout",
          "text": [
            "2\n",
            "text ini akan mucul jika umur dibawah 17\n",
            "10\n",
            "text ini akan mucul jika umur dibawah 17\n",
            "17\n",
            "20\n",
            "Loop Break!\n"
          ]
        }
      ]
    },
    {
      "cell_type": "code",
      "metadata": {
        "colab": {
          "base_uri": "https://localhost:8080/"
        },
        "id": "IniE55AIG0dN",
        "outputId": "e788d5e5-797f-4eb5-ad1e-47a7e3a48cce"
      },
      "source": [
        "# for else\n",
        "for i in range (0,6,1):\n",
        "  print(i)\n",
        "  if i ==(2):  # break jika i == 2\n",
        "    break\n",
        "else:\n",
        "  print(\"print ini jika tidak ada break\")"
      ],
      "execution_count": 123,
      "outputs": [
        {
          "output_type": "stream",
          "name": "stdout",
          "text": [
            "0\n",
            "1\n",
            "2\n"
          ]
        }
      ]
    },
    {
      "cell_type": "code",
      "metadata": {
        "colab": {
          "base_uri": "https://localhost:8080/"
        },
        "id": "KySZ_J4BHbOM",
        "outputId": "ec6eb584-720d-4909-dde0-9b72333cde9c"
      },
      "source": [
        "for i in range (0,6,1):\n",
        "  print(i)\n",
        "  if i ==(10): # break jika i == 10\n",
        "    break\n",
        "else:\n",
        "  print(\"print ini jika break tidak tereksekusi\")"
      ],
      "execution_count": 124,
      "outputs": [
        {
          "output_type": "stream",
          "name": "stdout",
          "text": [
            "0\n",
            "1\n",
            "2\n",
            "3\n",
            "4\n",
            "5\n",
            "print ini jika break tidak tereksekusi\n"
          ]
        }
      ]
    },
    {
      "cell_type": "code",
      "metadata": {
        "id": "MAnrydZrHhN0"
      },
      "source": [
        "# function\n",
        "def maxValue(a,b):\n",
        "  if a > b:\n",
        "    return a\n",
        "  else :\n",
        "    return b "
      ],
      "execution_count": 128,
      "outputs": []
    },
    {
      "cell_type": "code",
      "metadata": {
        "colab": {
          "base_uri": "https://localhost:8080/"
        },
        "id": "2iO62hHpIhWg",
        "outputId": "558cd6b3-4725-4740-ceff-a19b17bb8867"
      },
      "source": [
        "maxValue(12,200)"
      ],
      "execution_count": 130,
      "outputs": [
        {
          "output_type": "execute_result",
          "data": {
            "text/plain": [
              "200"
            ]
          },
          "metadata": {},
          "execution_count": 130
        }
      ]
    },
    {
      "cell_type": "code",
      "metadata": {
        "colab": {
          "base_uri": "https://localhost:8080/"
        },
        "id": "pmrx2mUVIxDO",
        "outputId": "a7478cfb-637d-4a65-f4f5-3041b73ebab2"
      },
      "source": [
        "# manggil isi list menggunakan for loop\n",
        "for i in my_list:\n",
        "  print(i)"
      ],
      "execution_count": 132,
      "outputs": [
        {
          "output_type": "stream",
          "name": "stdout",
          "text": [
            "Jasson\n",
            "7\n",
            "11\n",
            "['Pizza', 'Soda']\n",
            "{}\n",
            "()\n",
            "False\n"
          ]
        }
      ]
    },
    {
      "cell_type": "code",
      "metadata": {
        "colab": {
          "base_uri": "https://localhost:8080/"
        },
        "id": "WZ7xmQLIJArr",
        "outputId": "bba4d682-017c-4c26-f860-358f7426b208"
      },
      "source": [
        "# manggil isi dictionary menggunakan for loop\n",
        "for i in my_dictionary:\n",
        "  print(i)"
      ],
      "execution_count": 134,
      "outputs": [
        {
          "output_type": "stream",
          "name": "stdout",
          "text": [
            "Me\n",
            "Ni\n",
            "True\n",
            "8.0\n",
            "Dicti\n",
            "222\n"
          ]
        }
      ]
    },
    {
      "cell_type": "code",
      "metadata": {
        "colab": {
          "base_uri": "https://localhost:8080/"
        },
        "id": "BqXMeBntJJXy",
        "outputId": "d80346f7-9969-43b2-d538-d6196993af03"
      },
      "source": [
        "# Print setiap char di string\n",
        "for char in \"I am the Winner\" :\n",
        "  print(char)"
      ],
      "execution_count": 135,
      "outputs": [
        {
          "output_type": "stream",
          "name": "stdout",
          "text": [
            "I\n",
            " \n",
            "a\n",
            "m\n",
            " \n",
            "t\n",
            "h\n",
            "e\n",
            " \n",
            "W\n",
            "i\n",
            "n\n",
            "n\n",
            "e\n",
            "r\n"
          ]
        }
      ]
    },
    {
      "cell_type": "code",
      "metadata": {
        "id": "cVmBScKfJgE2"
      },
      "source": [
        "new_List = [1,2,3,4,5,6,7]"
      ],
      "execution_count": 136,
      "outputs": []
    },
    {
      "cell_type": "code",
      "metadata": {
        "colab": {
          "base_uri": "https://localhost:8080/"
        },
        "id": "Q4EwjvQwJ6tm",
        "outputId": "390b722f-0e21-40cc-9a0e-708f6615f932"
      },
      "source": [
        "for nilai in new_List:\n",
        "  if nilai == 6:\n",
        "    new_List.remove(nilai)\n",
        "new_List"
      ],
      "execution_count": 138,
      "outputs": [
        {
          "output_type": "execute_result",
          "data": {
            "text/plain": [
              "[1, 2, 3, 4, 5, 7]"
            ]
          },
          "metadata": {},
          "execution_count": 138
        }
      ]
    },
    {
      "cell_type": "code",
      "metadata": {
        "colab": {
          "base_uri": "https://localhost:8080/"
        },
        "id": "DY9Rm2U6KE6V",
        "outputId": "ff231d21-0127-41f9-9064-7421c764a2d4"
      },
      "source": [
        "for i, nilai in enumerate(new_List):\n",
        "  print(\"index: {},  nilai: {}\".format(i,nilai))"
      ],
      "execution_count": 140,
      "outputs": [
        {
          "output_type": "stream",
          "name": "stdout",
          "text": [
            "index: 0,  nilai: 1\n",
            "index: 1,  nilai: 2\n",
            "index: 2,  nilai: 3\n",
            "index: 3,  nilai: 4\n",
            "index: 4,  nilai: 5\n",
            "index: 5,  nilai: 7\n"
          ]
        }
      ]
    },
    {
      "cell_type": "code",
      "metadata": {
        "colab": {
          "base_uri": "https://localhost:8080/"
        },
        "id": "4wfAq4ZPK8Ia",
        "outputId": "85bb9a54-4ece-44f9-e5b1-fdf3b50f27f9"
      },
      "source": [
        "coba_List = [1,2,3,4,5,6,7]\n",
        "for i,nilai in enumerate(coba_List):\n",
        "  if nilai == 6:\n",
        "    coba_List.remove(coba_List[i])\n",
        "coba_List"
      ],
      "execution_count": 145,
      "outputs": [
        {
          "output_type": "execute_result",
          "data": {
            "text/plain": [
              "[1, 2, 3, 4, 5, 7]"
            ]
          },
          "metadata": {},
          "execution_count": 145
        }
      ]
    },
    {
      "cell_type": "code",
      "metadata": {
        "id": "Cg7OopzlLpn1"
      },
      "source": [
        ""
      ],
      "execution_count": null,
      "outputs": []
    }
  ]
}