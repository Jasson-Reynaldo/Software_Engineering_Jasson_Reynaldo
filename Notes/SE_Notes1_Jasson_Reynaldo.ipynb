{
  "nbformat": 4,
  "nbformat_minor": 0,
  "metadata": {
    "colab": {
      "name": "SE_Notes1_Jasson_Reynaldo.ipynb",
      "provenance": [],
      "collapsed_sections": []
    },
    "kernelspec": {
      "name": "python3",
      "display_name": "Python 3"
    },
    "language_info": {
      "name": "python"
    }
  },
  "cells": [
    {
      "cell_type": "code",
      "metadata": {
        "id": "CQhCqbZYv7VS"
      },
      "source": [
        "# Contoh penggunaan Variabel\n",
        "\n",
        "a = 10 # Integer\n",
        "b = 3.14 # Float\n",
        "c = \"A\" # String\n",
        "d = 'Jasson ' # String\n",
        "e = \"Reynaldo\" #Character\n",
        "f = \"Software Engineer\" # String\n",
        "g = True # Boolean\n",
        "h = False # Boolean\n",
        "i = [] # Initialize List\n",
        "j = [1,2,3] # List with value \n",
        "k = {} # Dictionary \n",
        "l = () # Tuple\n",
        "\n",
        "# Integer, Float, String, Boolean, List, Dictionary, Tuple"
      ],
      "execution_count": null,
      "outputs": []
    },
    {
      "cell_type": "code",
      "metadata": {
        "id": "Zh5y5J-TwsNv",
        "colab": {
          "base_uri": "https://localhost:8080/"
        },
        "outputId": "889e3a90-6e06-41d2-e444-4211f4b1ad7b"
      },
      "source": [
        "# Print for debugging\n",
        "print(a)\n",
        "print(a+b)\n",
        "print(d+e)\n",
        "print(i)\n",
        "print(f)"
      ],
      "execution_count": null,
      "outputs": [
        {
          "output_type": "stream",
          "name": "stdout",
          "text": [
            "10\n",
            "13.14\n",
            "Jasson Reynaldo\n",
            "[]\n",
            "Software Engineer\n"
          ]
        }
      ]
    },
    {
      "cell_type": "code",
      "metadata": {
        "colab": {
          "base_uri": "https://localhost:8080/"
        },
        "id": "UncUgEVJyVY1",
        "outputId": "429b1571-6872-4a8c-8b3d-08bb83ab19ee"
      },
      "source": [
        "# Concatination\n",
        "nama = \"Jasson\"\n",
        "umur = 20\n",
        "Alamat = \"Jambi\"\n",
        "\n",
        "print(\"Hello namaku \" + nama)\n",
        "print(\"Sekarang aku berumur : {}\".format(umur))\n",
        "print(\"Hai namaku {}, sekarang diriku berumur {}, dan aku tinggal di {} \".format(nama, umur, Alamat))"
      ],
      "execution_count": null,
      "outputs": [
        {
          "output_type": "stream",
          "name": "stdout",
          "text": [
            "Hello namaku Jasson\n",
            "Sekarang aku berumur : 20\n",
            "Hai namaku Jasson, sekarang diriku berumur 20, dan aku tinggal di Jambi \n"
          ]
        }
      ]
    },
    {
      "cell_type": "code",
      "metadata": {
        "colab": {
          "base_uri": "https://localhost:8080/"
        },
        "id": "JlY9-dL21oAo",
        "outputId": "62f16d82-d683-4f70-9012-3c4624efebed"
      },
      "source": [
        "# Using Input\n",
        "nama = input()"
      ],
      "execution_count": null,
      "outputs": [
        {
          "name": "stdout",
          "output_type": "stream",
          "text": [
            "Jasson Reynlado\n"
          ]
        }
      ]
    },
    {
      "cell_type": "code",
      "metadata": {
        "colab": {
          "base_uri": "https://localhost:8080/"
        },
        "id": "XujhoWmq3kVl",
        "outputId": "9d0ddcf4-e77a-4fc4-83f1-a1cf88ab1e0f"
      },
      "source": [
        "# try to use the variable after input\n",
        "\n",
        "print(\"Nama lengkapku adalah \" + nama)\n",
        "print(\"Hai nama lengkapku {}, sekarang diriku berumur {}, dan aku tinggal di {} \".format(nama, umur, Alamat))"
      ],
      "execution_count": null,
      "outputs": [
        {
          "output_type": "stream",
          "name": "stdout",
          "text": [
            "Nama lengkapku adalah Jasson Reynlado\n",
            "Hai nama lengkapku Jasson Reynlado, sekarang diriku berumur 20, dan aku tinggal di Jambi \n"
          ]
        }
      ]
    },
    {
      "cell_type": "code",
      "metadata": {
        "colab": {
          "base_uri": "https://localhost:8080/"
        },
        "id": "Y7ZfpvTk4n4T",
        "outputId": "40c5ff9e-ad3a-490f-e0ce-c3035daaf74f"
      },
      "source": [
        "import math\n",
        "# Conditional if else\n",
        "a = 10\n",
        "b = 10\n",
        "## Conditional Statement\n",
        "a == b # Jika nilai a sama dengan b\n",
        "a != b # Jika nilai a tidak sama dengan b\n",
        "a < b\n",
        "a <= b\n",
        "a > b\n",
        "a >= b\n",
        "True and True \n",
        "True or False\n",
        "\n",
        "## Operator\n",
        "a + b\n",
        "a - b\n",
        "a * b\n",
        "a / b # Float division -> 10/10 = 1.0\n",
        "a // b # Int division -> 10/10 = 1\n",
        "a ** b # Square operation -> 10^10 = 100\n",
        "a % b # Modulo operation\n",
        "a ** (1/2) # SQRT operation manual\n",
        "math.sqrt(a) # SQRT operation with math library"
      ],
      "execution_count": null,
      "outputs": [
        {
          "output_type": "execute_result",
          "data": {
            "text/plain": [
              "3.1622776601683795"
            ]
          },
          "metadata": {},
          "execution_count": 31
        }
      ]
    },
    {
      "cell_type": "code",
      "metadata": {
        "colab": {
          "base_uri": "https://localhost:8080/"
        },
        "id": "r5p8Qw2d6hqW",
        "outputId": "e0135d8e-7146-454c-fbb7-7e3b99500bd0"
      },
      "source": [
        "#Trying to use if, elif, else\n",
        "\n",
        "if a == 10:\n",
        "  print(\"Value a sama dengan 10\") \n",
        "elif a > 10:\n",
        "  print(\"Value a lebih besar dari 10\")\n",
        "else:\n",
        "  print(\"Value a kurang dari 10\")\n",
        "print(\"line code ini berada di luar if conditional\")"
      ],
      "execution_count": null,
      "outputs": [
        {
          "output_type": "stream",
          "name": "stdout",
          "text": [
            "Value a sama dengan 10\n",
            "line code ini berada di luar if conditional\n"
          ]
        }
      ]
    }
  ]
}