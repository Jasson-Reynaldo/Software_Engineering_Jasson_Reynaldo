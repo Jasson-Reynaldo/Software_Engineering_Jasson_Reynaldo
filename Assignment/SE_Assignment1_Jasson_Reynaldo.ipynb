{
  "nbformat": 4,
  "nbformat_minor": 0,
  "metadata": {
    "colab": {
      "name": "SE_Assignment1_Jasson Reynaldo",
      "provenance": []
    },
    "kernelspec": {
      "name": "python3",
      "display_name": "Python 3"
    },
    "language_info": {
      "name": "python"
    }
  },
  "cells": [
    {
      "cell_type": "code",
      "metadata": {
        "colab": {
          "base_uri": "https://localhost:8080/"
        },
        "id": "ULhUJTCR7-Gf",
        "outputId": "a06c9d67-ac4e-4ad4-9e52-57d6169a2a36"
      },
      "source": [
        "custName = \"Jasson Reynaldo\"\n",
        "restName = \"Delicioso\"\n",
        "\n",
        "print(\"Good evening\", custName, \"and welcome to\", restName, \"restaurant!\" )"
      ],
      "execution_count": 1,
      "outputs": [
        {
          "output_type": "stream",
          "name": "stdout",
          "text": [
            "Good evening Jasson Reynaldo and welcome to Delicioso restaurant!\n"
          ]
        }
      ]
    },
    {
      "cell_type": "code",
      "metadata": {
        "colab": {
          "base_uri": "https://localhost:8080/"
        },
        "id": "BEq2yCXyAMoq",
        "outputId": "700c2278-7cec-4240-b277-59fa5da43238"
      },
      "source": [
        "food = input(\"What food do you want to order?\")\n",
        "print(\"Okay Sir, your\", food ,\"will be served to you as soon as possible :D\" )"
      ],
      "execution_count": 2,
      "outputs": [
        {
          "output_type": "stream",
          "name": "stdout",
          "text": [
            "What food do you want to order?pizza\n",
            "Okay Sir, your pizza will be served to you as soon as possible :D\n"
          ]
        }
      ]
    }
  ]
}